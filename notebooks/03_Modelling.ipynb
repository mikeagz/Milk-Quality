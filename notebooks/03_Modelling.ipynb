{
 "cells": [
  {
   "cell_type": "code",
   "execution_count": 1,
   "metadata": {},
   "outputs": [],
   "source": [
    "import pandas as pd\n",
    "from sklearn.model_selection import train_test_split"
   ]
  },
  {
   "cell_type": "code",
   "execution_count": 2,
   "metadata": {},
   "outputs": [],
   "source": [
    "data=pd.read_csv(\"../data/processed/data_milk_c.csv\",index_col=0)\n",
    "X=data.drop(columns=['Grade','Grade_sparse']).values\n",
    "y=data['Grade_sparse'].values"
   ]
  },
  {
   "cell_type": "code",
   "execution_count": 3,
   "metadata": {},
   "outputs": [
    {
     "name": "stdout",
     "output_type": "stream",
     "text": [
      "Train shape: (58, 7)\n",
      "Test shape (25, 7)\n"
     ]
    }
   ],
   "source": [
    "X_train,X_test,y_train,y_test=train_test_split(X,y,test_size=0.3,random_state=25)\n",
    "\n",
    "print(f\"Train shape: {X_train.shape}\")\n",
    "print(f\"Test shape {X_test.shape}\")"
   ]
  },
  {
   "cell_type": "code",
   "execution_count": 4,
   "metadata": {},
   "outputs": [
    {
     "name": "stdout",
     "output_type": "stream",
     "text": [
      "Accuracy 0.84\n"
     ]
    }
   ],
   "source": [
    "from sklearn.svm import SVC\n",
    "\n",
    "estimator_svc=SVC(kernel='linear',C=2)\n",
    "\n",
    "estimator_svc.fit(X_train,y_train)\n",
    "accuracy = estimator_svc.score(X_test, y_test)\n",
    "print(f\"Accuracy {accuracy}\")"
   ]
  },
  {
   "cell_type": "code",
   "execution_count": 5,
   "metadata": {},
   "outputs": [
    {
     "name": "stdout",
     "output_type": "stream",
     "text": [
      "Accuracy 0.76\n"
     ]
    }
   ],
   "source": [
    "from sklearn.ensemble import RandomForestClassifier\n",
    "random_forest=RandomForestClassifier(max_depth=10)\n",
    "random_forest.fit(X_train,y_train)\n",
    "accuracy = random_forest.score(X_test, y_test)\n",
    "print(f\"Accuracy {accuracy}\")"
   ]
  },
  {
   "cell_type": "code",
   "execution_count": 6,
   "metadata": {},
   "outputs": [
    {
     "name": "stdout",
     "output_type": "stream",
     "text": [
      "Accuracy 0.68\n"
     ]
    }
   ],
   "source": [
    "from sklearn.neighbors import KNeighborsClassifier\n",
    "knn = KNeighborsClassifier(n_neighbors = 7)\n",
    "knn.fit(X_train, y_train)\n",
    "accuracy = knn.score(X_test, y_test)\n",
    "print(f\"Accuracy {accuracy}\")"
   ]
  },
  {
   "cell_type": "code",
   "execution_count": 7,
   "metadata": {},
   "outputs": [
    {
     "name": "stdout",
     "output_type": "stream",
     "text": [
      "Accuracy 0.92\n"
     ]
    }
   ],
   "source": [
    "from sklearn.naive_bayes import GaussianNB\n",
    "gnb = GaussianNB()\n",
    "gnb.fit(X_train, y_train)\n",
    "accuracy = gnb.score(X_test, y_test)\n",
    "print(f\"Accuracy {accuracy}\")"
   ]
  },
  {
   "cell_type": "code",
   "execution_count": 8,
   "metadata": {},
   "outputs": [
    {
     "data": {
      "text/plain": [
       "{'fit_time': array([0.00386786, 0.00833535, 0.        , 0.00251436, 0.00100875,\n",
       "        0.        , 0.00800037, 0.        , 0.01000643, 0.        ]),\n",
       " 'score_time': array([0.00254798, 0.        , 0.00551343, 0.        , 0.        ,\n",
       "        0.        , 0.        , 0.00600529, 0.        , 0.        ]),\n",
       " 'test_score': array([0.77777778, 0.88888889, 1.        , 1.        , 1.        ,\n",
       "        0.625     , 1.        , 0.625     , 0.875     , 0.75      ]),\n",
       " 'train_score': array([0.75675676, 0.87837838, 0.86486486, 0.89333333, 0.86666667,\n",
       "        0.90666667, 0.88      , 0.90666667, 0.88      , 0.90666667])}"
      ]
     },
     "execution_count": 8,
     "metadata": {},
     "output_type": "execute_result"
    }
   ],
   "source": [
    "from sklearn.model_selection import cross_validate\n",
    "\n",
    "results = cross_validate(GaussianNB() ,X,y,return_train_score=True,cv=10)\n",
    "results"
   ]
  },
  {
   "cell_type": "code",
   "execution_count": 10,
   "metadata": {},
   "outputs": [
    {
     "name": "stdout",
     "output_type": "stream",
     "text": [
      "Train Score: 0.874\n",
      "Test Score: 0.8541666666666666\n"
     ]
    }
   ],
   "source": [
    "import numpy as np\n",
    "train_score = np.mean(results['train_score'])\n",
    "test_score = np.mean(results['test_score'])\n",
    "assert train_score > 0.7\n",
    "assert test_score > 0.65\n",
    "print(f'Train Score: {train_score}')\n",
    "print(f'Test Score: {test_score}')"
   ]
  },
  {
   "cell_type": "code",
   "execution_count": 11,
   "metadata": {},
   "outputs": [
    {
     "data": {
      "text/plain": [
       "['../models/gnbayes.joblib']"
      ]
     },
     "execution_count": 11,
     "metadata": {},
     "output_type": "execute_result"
    }
   ],
   "source": [
    "from joblib import dump\n",
    "\n",
    "dump(gnb,'../models/gnbayes.joblib')"
   ]
  },
  {
   "cell_type": "code",
   "execution_count": 14,
   "metadata": {},
   "outputs": [
    {
     "data": {
      "text/plain": [
       "Index(['pH', 'Temp', 'Taste', 'Odor', 'Fat ', 'Turbidity', 'Colour'], dtype='object')"
      ]
     },
     "execution_count": 14,
     "metadata": {},
     "output_type": "execute_result"
    }
   ],
   "source": [
    "data.drop(columns=['Grade','Grade_sparse']).columns"
   ]
  },
  {
   "cell_type": "code",
   "execution_count": 7,
   "metadata": {},
   "outputs": [],
   "source": [
    "import joblib\n",
    "from pydantic import BaseModel\n",
    "\n",
    "class milk_features(BaseModel):\n",
    "    pH:float\n",
    "    Temp:float\n",
    "    Taste:float\n",
    "    Odor:float\n",
    "    Fat:float\n",
    "    Turbidity:float\n",
    "    Colour:float\n",
    "\n",
    "\n",
    "class MilkModel():\n",
    "    def __init__(self):\n",
    "        self.model_name='../models/gnbayes.joblib'\n",
    "        self.model=joblib.load(self.model_name)\n",
    "\n",
    "    def predict_quality(self,pH,Temp,Taste,Odor,Fat,Turbidity,Colour):\n",
    "        data_input=[[pH,Temp,Taste,Odor,Fat,Turbidity,Colour]]\n",
    "        prediction=self.model.predict(data_input)\n",
    "        probability=self.model.predict_proba(data_input).max()\n",
    "        return prediction[0],probability"
   ]
  },
  {
   "cell_type": "code",
   "execution_count": 12,
   "metadata": {},
   "outputs": [],
   "source": [
    "model=MilkModel()\n",
    "def predict_quality(milk: milk_features):\n",
    "    data = milk.dict()\n",
    "    prediction, probability = model.predict_quality(data[\"pH\"], \n",
    "                                                    data[\"Temp\"],\n",
    "                                                    data['Taste'],\n",
    "                                                    data['Odor'],\n",
    "                                                    data['Fat'],\n",
    "                                                    data['Turbidity'],\n",
    "                                                    data['Colour']\n",
    "    )\n",
    "    return {\n",
    "        'prediction':prediction,\n",
    "        'probability':probability\n",
    "    }"
   ]
  },
  {
   "cell_type": "code",
   "execution_count": 17,
   "metadata": {},
   "outputs": [
    {
     "ename": "TypeError",
     "evalue": "predict_quality() takes 1 positional argument but 7 were given",
     "output_type": "error",
     "traceback": [
      "\u001b[1;31m---------------------------------------------------------------------------\u001b[0m",
      "\u001b[1;31mTypeError\u001b[0m                                 Traceback (most recent call last)",
      "\u001b[1;32mc:\\Users\\migue\\Desktop\\Projects\\Milk_Quality\\notebooks\\03_Modelling.ipynb Cell 14\u001b[0m line \u001b[0;36m1\n\u001b[1;32m----> <a href='vscode-notebook-cell:/c%3A/Users/migue/Desktop/Projects/Milk_Quality/notebooks/03_Modelling.ipynb#X21sZmlsZQ%3D%3D?line=0'>1</a>\u001b[0m predict_quality(\u001b[39m0\u001b[39;49m,\u001b[39m0\u001b[39;49m,\u001b[39m0\u001b[39;49m,\u001b[39m0\u001b[39;49m,\u001b[39m0\u001b[39;49m,\u001b[39m0\u001b[39;49m,\u001b[39m0\u001b[39;49m)\n",
      "\u001b[1;31mTypeError\u001b[0m: predict_quality() takes 1 positional argument but 7 were given"
     ]
    }
   ],
   "source": [
    "predict_quality(0,0,0,0,0,0,0)"
   ]
  }
 ],
 "metadata": {
  "kernelspec": {
   "display_name": "Python 3",
   "language": "python",
   "name": "python3"
  },
  "language_info": {
   "codemirror_mode": {
    "name": "ipython",
    "version": 3
   },
   "file_extension": ".py",
   "mimetype": "text/x-python",
   "name": "python",
   "nbconvert_exporter": "python",
   "pygments_lexer": "ipython3",
   "version": "3.9.18"
  }
 },
 "nbformat": 4,
 "nbformat_minor": 2
}
